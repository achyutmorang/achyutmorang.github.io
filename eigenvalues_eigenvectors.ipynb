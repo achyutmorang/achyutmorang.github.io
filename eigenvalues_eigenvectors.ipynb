{
  "nbformat": 4,
  "nbformat_minor": 0,
  "metadata": {
    "colab": {
      "name": "scratchpad",
      "provenance": [],
      "toc_visible": true,
      "include_colab_link": true
    },
    "kernelspec": {
      "display_name": "Python 3",
      "name": "python3"
    }
  },
  "cells": [
    {
      "cell_type": "markdown",
      "metadata": {
        "id": "view-in-github",
        "colab_type": "text"
      },
      "source": [
        "<a href=\"https://colab.research.google.com/github/achyutmorang/achyutmorang.github.io/blob/master/eigenvalues_eigenvectors.ipynb\" target=\"_parent\"><img src=\"https://colab.research.google.com/assets/colab-badge.svg\" alt=\"Open In Colab\"/></a>"
      ]
    },
    {
      "cell_type": "markdown",
      "metadata": {
        "id": "gbFA_Kvyn9LU"
      },
      "source": [
        "# Eigenvalues and Eigenvectors"
      ]
    },
    {
      "cell_type": "markdown",
      "metadata": {
        "id": "YnTywgvNnxcd"
      },
      "source": [
        "Find the eigen-values and eigen-vectors of the following matrix\n",
        "$$\\left[\\begin{array}{cc}\n",
        "-1 & 4 \\\\\n",
        "2 & -2\n",
        "\\end{array}\\right]$$"
      ]
    },
    {
      "cell_type": "markdown",
      "metadata": {
        "id": "1THmx_h6n0Rz"
      },
      "source": [
        "###Using NumPy"
      ]
    },
    {
      "cell_type": "code",
      "metadata": {
        "id": "-G7Y4ZwlRYeh"
      },
      "source": [
        "import numpy as np\n",
        "from numpy import linalg as LA"
      ],
      "execution_count": 1,
      "outputs": []
    },
    {
      "cell_type": "code",
      "metadata": {
        "id": "lIYdn1woOS1n"
      },
      "source": [
        "a = np.array([[-1, 4], [2, -2]])\n",
        "eg_vals, eg_vects = LA.eig(a)"
      ],
      "execution_count": 2,
      "outputs": []
    },
    {
      "cell_type": "code",
      "metadata": {
        "id": "je2GMk0EVeFt",
        "outputId": "6b24e462-3841-4178-c214-bad9a5e90161",
        "colab": {
          "base_uri": "https://localhost:8080/"
        }
      },
      "source": [
        "eg_vals"
      ],
      "execution_count": 3,
      "outputs": [
        {
          "output_type": "execute_result",
          "data": {
            "text/plain": [
              "array([ 1.37228132, -4.37228132])"
            ]
          },
          "metadata": {},
          "execution_count": 3
        }
      ]
    },
    {
      "cell_type": "code",
      "metadata": {
        "id": "3hqGEKrzRfB9",
        "outputId": "9ac37b25-26dd-4a95-8ca5-9ef54c4802dd",
        "colab": {
          "base_uri": "https://localhost:8080/"
        }
      },
      "source": [
        "eg_vects"
      ],
      "execution_count": 4,
      "outputs": [
        {
          "output_type": "execute_result",
          "data": {
            "text/plain": [
              "array([[ 0.86011126, -0.76454754],\n",
              "       [ 0.51010647,  0.64456735]])"
            ]
          },
          "metadata": {},
          "execution_count": 4
        }
      ]
    },
    {
      "cell_type": "code",
      "metadata": {
        "id": "vkZmdW69m3ql",
        "outputId": "9d830746-86a8-4a2d-e0cb-4698fc39213b",
        "colab": {
          "base_uri": "https://localhost:8080/"
        }
      },
      "source": [
        "0.86011126/0.51010647"
      ],
      "execution_count": 5,
      "outputs": [
        {
          "output_type": "execute_result",
          "data": {
            "text/plain": [
              "1.686140660007704"
            ]
          },
          "metadata": {},
          "execution_count": 5
        }
      ]
    },
    {
      "cell_type": "code",
      "metadata": {
        "id": "lQl0xmjrnEy9",
        "outputId": "fcade0ae-9220-4802-8bb5-925e2bdf0e08",
        "colab": {
          "base_uri": "https://localhost:8080/"
        }
      },
      "source": [
        "-0.76454754/0.64456735"
      ],
      "execution_count": 6,
      "outputs": [
        {
          "output_type": "execute_result",
          "data": {
            "text/plain": [
              "-1.1861406569848754"
            ]
          },
          "metadata": {},
          "execution_count": 6
        }
      ]
    },
    {
      "cell_type": "markdown",
      "metadata": {
        "id": "CBi34OLboPZL"
      },
      "source": [
        "###Using SymPy"
      ]
    },
    {
      "cell_type": "code",
      "metadata": {
        "id": "6By-8cLGVA7-"
      },
      "source": [
        "from sympy import *\n",
        "import math\n",
        "A = Matrix([[-1, 4], [2, -2]])"
      ],
      "execution_count": 15,
      "outputs": []
    },
    {
      "cell_type": "code",
      "metadata": {
        "id": "cnDbgm14Yl1j",
        "outputId": "eedf5e7a-024e-4815-9506-0403f7dda74f",
        "colab": {
          "base_uri": "https://localhost:8080/",
          "height": 92
        }
      },
      "source": [
        "print('The given matrix A is, ', end='\\n\\n')\n",
        "A"
      ],
      "execution_count": 16,
      "outputs": [
        {
          "output_type": "stream",
          "name": "stdout",
          "text": [
            "The given matrix A is, \n",
            "\n"
          ]
        },
        {
          "output_type": "execute_result",
          "data": {
            "text/latex": "$\\displaystyle \\left[\\begin{matrix}-1 & 4\\\\2 & -2\\end{matrix}\\right]$",
            "text/plain": [
              "Matrix([\n",
              "[-1,  4],\n",
              "[ 2, -2]])"
            ]
          },
          "metadata": {},
          "execution_count": 16
        }
      ]
    },
    {
      "cell_type": "code",
      "metadata": {
        "id": "PuWU8wPmZ7b-",
        "outputId": "e8af4c34-e44a-405c-d08a-97335d5dac86",
        "colab": {
          "base_uri": "https://localhost:8080/",
          "height": 89
        }
      },
      "source": [
        "e_vals = A.eigenvals()\n",
        "e_val_list = [(k, e_vals[k]) for k in e_vals]\n",
        "print('Another Eigenvalue of A, say \\u03BB2, is', end='\\n\\n')\n",
        "e_val_list[0][0]"
      ],
      "execution_count": 17,
      "outputs": [
        {
          "output_type": "stream",
          "name": "stdout",
          "text": [
            "Another Eigenvalue of A, say λ2, is\n",
            "\n"
          ]
        },
        {
          "output_type": "execute_result",
          "data": {
            "text/latex": "$\\displaystyle - \\frac{\\sqrt{33}}{2} - \\frac{3}{2}$",
            "text/plain": [
              "-sqrt(33)/2 - 3/2"
            ]
          },
          "metadata": {},
          "execution_count": 17
        }
      ]
    },
    {
      "cell_type": "code",
      "metadata": {
        "id": "KJGRuMpTbykH",
        "outputId": "52438770-c388-4343-8e9d-25def4116ca0",
        "colab": {
          "base_uri": "https://localhost:8080/",
          "height": 89
        }
      },
      "source": [
        "print('One Eigenvalue of A, say \\u03BB1, is', end='\\n\\n')\n",
        "e_val_list[1][0]"
      ],
      "execution_count": 18,
      "outputs": [
        {
          "output_type": "stream",
          "name": "stdout",
          "text": [
            "One Eigenvalue of A, say λ1, is\n",
            "\n"
          ]
        },
        {
          "output_type": "execute_result",
          "data": {
            "text/latex": "$\\displaystyle - \\frac{3}{2} + \\frac{\\sqrt{33}}{2}$",
            "text/plain": [
              "-3/2 + sqrt(33)/2"
            ]
          },
          "metadata": {},
          "execution_count": 18
        }
      ]
    },
    {
      "cell_type": "code",
      "metadata": {
        "id": "U2Jpu_Uxlts6",
        "outputId": "889c3629-247b-4ce8-c031-ac54b1969138",
        "colab": {
          "base_uri": "https://localhost:8080/"
        }
      },
      "source": [
        "- 3/2 + math.sqrt(33)/2"
      ],
      "execution_count": 19,
      "outputs": [
        {
          "output_type": "execute_result",
          "data": {
            "text/plain": [
              "1.3722813232690143"
            ]
          },
          "metadata": {},
          "execution_count": 19
        }
      ]
    },
    {
      "cell_type": "code",
      "metadata": {
        "id": "WCIvNSStmsF6",
        "outputId": "4f8d2525-d0cc-4a76-e05e-2fd96a5440cc",
        "colab": {
          "base_uri": "https://localhost:8080/"
        }
      },
      "source": [
        "- math.sqrt(33)/2 - 3/2 "
      ],
      "execution_count": 20,
      "outputs": [
        {
          "output_type": "execute_result",
          "data": {
            "text/plain": [
              "-4.372281323269014"
            ]
          },
          "metadata": {},
          "execution_count": 20
        }
      ]
    },
    {
      "cell_type": "code",
      "metadata": {
        "id": "T53S3QURXJiJ",
        "outputId": "c8c9090f-50e4-412f-9f2e-0a43825e0703",
        "colab": {
          "base_uri": "https://localhost:8080/",
          "height": 119
        }
      },
      "source": [
        "print('Eigenvector corresponding to \\u03BB1 is', end='\\n\\n') \n",
        "print(A.eigenvects()[0][2][0])\n",
        "A.eigenvects()[0][2][0]"
      ],
      "execution_count": 21,
      "outputs": [
        {
          "output_type": "stream",
          "name": "stdout",
          "text": [
            "Eigenvector corresponding to λ1 is\n",
            "\n",
            "Matrix([[-4/(1/2 - sqrt(33)/2)], [1]])\n"
          ]
        },
        {
          "output_type": "execute_result",
          "data": {
            "text/latex": "$\\displaystyle \\left[\\begin{matrix}- \\frac{4}{\\frac{1}{2} - \\frac{\\sqrt{33}}{2}}\\\\1\\end{matrix}\\right]$",
            "text/plain": [
              "Matrix([\n",
              "[-4/(1/2 - sqrt(33)/2)],\n",
              "[                    1]])"
            ]
          },
          "metadata": {},
          "execution_count": 21
        }
      ]
    },
    {
      "cell_type": "code",
      "metadata": {
        "id": "-XuN6D2klQnT",
        "outputId": "5b6b7ff1-cba1-4c9f-a340-0637fe349108",
        "colab": {
          "base_uri": "https://localhost:8080/",
          "height": 58
        }
      },
      "source": [
        "Matrix([[-4/(1/2 - math.sqrt(33)/2)], [1]])"
      ],
      "execution_count": 22,
      "outputs": [
        {
          "output_type": "execute_result",
          "data": {
            "text/latex": "$\\displaystyle \\left[\\begin{matrix}1.68614066163451\\\\1\\end{matrix}\\right]$",
            "text/plain": [
              "Matrix([\n",
              "[1.68614066163451],\n",
              "[               1]])"
            ]
          },
          "metadata": {},
          "execution_count": 22
        }
      ]
    },
    {
      "cell_type": "code",
      "metadata": {
        "id": "XG5EpRBnWzr6",
        "outputId": "a205e26d-01c5-4394-f837-5da6414fb6ca",
        "colab": {
          "base_uri": "https://localhost:8080/",
          "height": 119
        }
      },
      "source": [
        "print('Eigenvector corresponding to \\u03BB2 is', end='\\n\\n') \n",
        "print(A.eigenvects()[1][2][0])\n",
        "A.eigenvects()[1][2][0]"
      ],
      "execution_count": 23,
      "outputs": [
        {
          "output_type": "stream",
          "name": "stdout",
          "text": [
            "Eigenvector corresponding to λ2 is\n",
            "\n",
            "Matrix([[-4/(1/2 + sqrt(33)/2)], [1]])\n"
          ]
        },
        {
          "output_type": "execute_result",
          "data": {
            "text/latex": "$\\displaystyle \\left[\\begin{matrix}- \\frac{4}{\\frac{1}{2} + \\frac{\\sqrt{33}}{2}}\\\\1\\end{matrix}\\right]$",
            "text/plain": [
              "Matrix([\n",
              "[-4/(1/2 + sqrt(33)/2)],\n",
              "[                    1]])"
            ]
          },
          "metadata": {},
          "execution_count": 23
        }
      ]
    },
    {
      "cell_type": "code",
      "metadata": {
        "id": "ORGw5HeRl9Mp",
        "outputId": "19dbbf7d-1aca-4c16-d0ba-7ee7c82d5bcd",
        "colab": {
          "base_uri": "https://localhost:8080/",
          "height": 58
        }
      },
      "source": [
        "Matrix([[-4/(1/2 + math.sqrt(33)/2)], [1]])"
      ],
      "execution_count": 24,
      "outputs": [
        {
          "output_type": "execute_result",
          "data": {
            "text/latex": "$\\displaystyle \\left[\\begin{matrix}-1.18614066163451\\\\1\\end{matrix}\\right]$",
            "text/plain": [
              "Matrix([\n",
              "[-1.18614066163451],\n",
              "[                1]])"
            ]
          },
          "metadata": {},
          "execution_count": 24
        }
      ]
    }
  ]
}